{
 "cells": [
  {
   "cell_type": "code",
   "execution_count": 1,
   "metadata": {},
   "outputs": [],
   "source": [
    "import glob\n",
    "\n",
    "import h5py\n",
    "import matplotlib.pyplot as plt\n",
    "import numpy as np"
   ]
  },
  {
   "cell_type": "code",
   "execution_count": 2,
   "metadata": {},
   "outputs": [
    {
     "name": "stdout",
     "output_type": "stream",
     "text": [
      "[]\n"
     ]
    }
   ],
   "source": [
    "# print the list of paths of files in the test set\n",
    "set_path = \"test\"\n",
    "paths = sorted(glob.glob(f\"data/{set_path}/*.hdf5\"))\n",
    "print(paths)"
   ]
  },
  {
   "cell_type": "code",
   "execution_count": 3,
   "metadata": {},
   "outputs": [
    {
     "ename": "IndexError",
     "evalue": "list index out of range",
     "output_type": "error",
     "traceback": [
      "\u001b[0;31m---------------------------------------------------------------------------\u001b[0m",
      "\u001b[0;31mIndexError\u001b[0m                                Traceback (most recent call last)",
      "Cell \u001b[0;32mIn[3], line 2\u001b[0m\n\u001b[1;32m      1\u001b[0m \u001b[38;5;66;03m# select the first path (arbitrary choice)\u001b[39;00m\n\u001b[0;32m----> 2\u001b[0m p \u001b[38;5;241m=\u001b[39m \u001b[43mpaths\u001b[49m\u001b[43m[\u001b[49m\u001b[38;5;241;43m0\u001b[39;49m\u001b[43m]\u001b[49m\n\u001b[1;32m      4\u001b[0m \u001b[38;5;66;03m# print the first layer of keys\u001b[39;00m\n\u001b[1;32m      5\u001b[0m \u001b[38;5;28;01mwith\u001b[39;00m h5py\u001b[38;5;241m.\u001b[39mFile(p, \u001b[38;5;124m\"\u001b[39m\u001b[38;5;124mr\u001b[39m\u001b[38;5;124m\"\u001b[39m) \u001b[38;5;28;01mas\u001b[39;00m f:\n",
      "\u001b[0;31mIndexError\u001b[0m: list index out of range"
     ]
    }
   ],
   "source": [
    "# select the first path (arbitrary choice)\n",
    "p = paths[0]\n",
    "\n",
    "# print the first layer of keys\n",
    "with h5py.File(p, \"r\") as f:\n",
    "    print(f[\"dimensions\"].keys())\n",
    "# This dataset is in angular coordinates, so the dimensions are phi and theta."
   ]
  },
  {
   "cell_type": "code",
   "execution_count": null,
   "metadata": {},
   "outputs": [],
   "source": [
    "# In 'boundary_conditions' is stored the information about the boundary conditions:\n",
    "with h5py.File(p, \"r\") as f:\n",
    "    print(\"print bc available:\", f[\"boundary_conditions\"].keys())\n",
    "    print(\"print attributes of the bc:\",f[\"boundary_conditions\"][\"phi_periodic\"].attrs[\"associated_dims\"])\n",
    "    print(\"get the bc type:\", f[\"boundary_conditions\"][\"theta_open\"].attrs[\"bc_type\"])"
   ]
  },
  {
   "cell_type": "code",
   "execution_count": null,
   "metadata": {},
   "outputs": [],
   "source": [
    "with h5py.File(p, \"r\") as f:\n",
    "    print(\"t0_fields:\", f[\"dimensions\"].keys())"
   ]
  },
  {
   "cell_type": "code",
   "execution_count": null,
   "metadata": {},
   "outputs": [],
   "source": [
    "# Reminder: 't0_fields', 't1_fields', 't2_fields' are respectively scalar fields, vector fields and tensor fields\n",
    "# print the different fields available in the dataset\n",
    "with h5py.File(p, \"r\") as f:\n",
    "    print(\"t0_fields:\", f[\"t0_fields\"].keys())\n",
    "    print(\"t1_fields:\", f[\"t1_fields\"].keys())\n",
    "    print(\"t2_fields:\", f[\"t2_fields\"].keys())"
   ]
  },
  {
   "cell_type": "code",
   "execution_count": null,
   "metadata": {},
   "outputs": [],
   "source": [
    "# The data is of shape (n_trajectories, n_timesteps, x, y)\n",
    "# Get the first t0_field and save it as a numpy array\n",
    "with h5py.File(p, \"r\") as f:\n",
    "    velocity = f[\"t1_fields\"][\"velocity\"][:]  # HDF5 datasets can be sliced like a numpy array\n",
    "    print(\"shape of the selected t0_field: \", velocity.shape)\n",
    "\n",
    "    # you can directly slice the selected field without reading the whole dataset by doing:\n",
    "    # traj = 0 #select the trajectory\n",
    "    # field = f['t0_fields']['concentration'][traj, :]"
   ]
  },
  {
   "cell_type": "code",
   "execution_count": null,
   "metadata": {},
   "outputs": [],
   "source": [
    "traj = 0  # select the trajectory\n",
    "traj_toplot = velocity[traj, :, :, :, 0]\n",
    "# field is now of shape (n_timesteps, x, y). Let's do a subplot to plot it at t= 0, t= T/3, t= 2T/3 and t= T:\n",
    "fig, axs = plt.subplots(1, 4, figsize=(20, 5))\n",
    "T = traj_toplot.shape[0]\n",
    "\n",
    "# same colorbar for all subplots:\n",
    "normalize_plots = False\n",
    "cmap = \"RdBu_r\"\n",
    "\n",
    "if normalize_plots:\n",
    "    vmin = np.nanmin(traj_toplot)\n",
    "    vmax = np.nanmax(traj_toplot)\n",
    "    norm = plt.Normalize(vmin=vmin, vmax=vmax)\n",
    "    for i, t in enumerate([0, T // 3, (2 * T) // 3, T - 1]):\n",
    "        axs[i].imshow(traj_toplot[t], cmap=cmap, norm=norm)\n",
    "        axs[i].set_xticks([])\n",
    "        axs[i].set_yticks([])\n",
    "        axs[i].set_title(f\"t={t}\")\n",
    "else:\n",
    "    for i, t in enumerate([0, T // 3, (2 * T) // 3, T - 1]):\n",
    "        axs[i].imshow(traj_toplot[t], cmap=cmap)\n",
    "        axs[i].set_xticks([])\n",
    "        axs[i].set_yticks([])\n",
    "        axs[i].set_title(f\"t={t}\")\n",
    "plt.tight_layout()"
   ]
  }
 ],
 "metadata": {
  "kernelspec": {
   "display_name": "stdenv",
   "language": "python",
   "name": "python3"
  },
  "language_info": {
   "codemirror_mode": {
    "name": "ipython",
    "version": 3
   },
   "file_extension": ".py",
   "mimetype": "text/x-python",
   "name": "python",
   "nbconvert_exporter": "python",
   "pygments_lexer": "ipython3",
   "version": "3.12.2"
  }
 },
 "nbformat": 4,
 "nbformat_minor": 2
}
